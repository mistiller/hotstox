{
 "cells": [
  {
   "cell_type": "code",
   "execution_count": 1,
   "metadata": {},
   "outputs": [],
   "source": [
    "import matplotlib.pyplot as pp\n",
    "\n",
    "import numpy as np\n",
    "import pandas as pd\n",
    "\n",
    "from recommender import Recommender\n",
    "\n",
    "pp.style.use('ggplot')\n",
    "pp.rcParams['figure.figsize'] = [12, 8]"
   ]
  },
  {
   "cell_type": "code",
   "execution_count": null,
   "metadata": {},
   "outputs": [
    {
     "name": "stdout",
     "output_type": "stream",
     "text": [
      "[*********************100%***********************]  37 of 37 completed\n"
     ]
    }
   ],
   "source": [
    "old_symbols = [\n",
    "    'AAPL',\n",
    "    'AMZN',\n",
    "    'ITT',\n",
    "    'MSFT',\n",
    "    'PG', \n",
    "    'JNJ', \n",
    "    'GS',\n",
    "    'WMT',\n",
    "    'KO',\n",
    "    'PG',\n",
    "    'ALV.DE',\n",
    "    'SAP.DE',\n",
    "    'BABA',\n",
    "    'DIS',\n",
    "    'MSCI',\n",
    "    'PEP',\n",
    "    'BLK',\n",
    "    'MCD',\n",
    "    'ADBE',\n",
    "    'TSLA',\n",
    "    'XYL',\n",
    "    'NVDA',\n",
    "    'INTC',\n",
    "    'IBM',\n",
    "    'CSCO',\n",
    "    'GILD',\n",
    "    'V',\n",
    "    'LIN',\n",
    "    'NOW',\n",
    "    'ABT',\n",
    "    'HD',\n",
    "    'SBUX',\n",
    "    'BMW.DE',\n",
    "    'HEI.DE',\n",
    "    'NKE',\n",
    "    'GOOGL',\n",
    "    'AMD',\n",
    "    'VNA.DE'\n",
    "]\n",
    "\n",
    "symbols = [\n",
    "    'KO',\n",
    "    'MCD',\n",
    "    'JNJ',\n",
    "    'PEP',\n",
    "    'MSFT',\n",
    "    'BABA',\n",
    "    'AAPL',\n",
    "    'PG',\n",
    "    'IBM',\n",
    "    'VNA.DE',\n",
    "    'V',\n",
    "    'ZM',\n",
    "    'WORK',\n",
    "    'CRM',\n",
    "    'HEI.DE',\n",
    "    'ALV.DE',\n",
    "    'PYPL',\n",
    "    'DB1.DE'\n",
    "]\n",
    "\n",
    "relevant_metrics = {\n",
    "        'diversification_score': {'f': lambda x: x if x.min() > 0 else 0, 'w': 1.2}, \n",
    "        '95% 1-period Student t CVaR' : {'f': lambda x: 1/x**2 if x.min() > 0  else 0, 'w': 1.0}, \n",
    "        'forwardPE' : {'f': lambda x: 1/np.sqrt(x) if x.min() > 0  else 0, 'w': 2.0}, \n",
    "        'dividendYield' : {'f': lambda x: x**2 if x.min() > 0  else 0, 'w': 1.5},\n",
    "        'beta': {'f': lambda x: 1/x**2 if x.min() > 0  else 0, 'w': 2.0}, \n",
    "        'profitMargins': {'f': lambda x: x if x.min() > 0  else 0, 'w': 1.3}, \n",
    "        'pegRatio': {'f': lambda x: 1/x if x.min() > 0  else 0, 'w': 1.0},\n",
    "        'mfi': {'f': lambda x: 1/x if x.min() > 0  else 0, 'w': 1.0},\n",
    "        'governanceScore': {'f': lambda x: 1/x if x.min() > 0 else 0, 'w': 1.0},\n",
    "        'brownian_mad_sharpe': {'f': lambda x: x if x.min() > 0 else 0, 'w': 2.0},\n",
    "        'rsi': {'f': lambda x: 1/x if x.min() > 0 else 0, 'w': 1.0},\n",
    "        'share_of_analyst_upgrades': {'f': lambda x: x if x.min() > 0 else 0, 'w': 1.1},\n",
    "        'bookValue': {'f': lambda x: x if np.isnan(x.min()) == False else 0, 'w': 1.5}\n",
    "}\n",
    "\n",
    "rec = Recommender(old_symbols, relevant_metrics)\n",
    "results=rec.get_rel_metrics()\n",
    "results"
   ]
  },
  {
   "cell_type": "code",
   "execution_count": null,
   "metadata": {},
   "outputs": [],
   "source": [
    "results"
   ]
  },
  {
   "cell_type": "code",
   "execution_count": null,
   "metadata": {},
   "outputs": [],
   "source": [
    "rec.plot_metrics([('reco_score', 'rsi')])"
   ]
  },
  {
   "cell_type": "code",
   "execution_count": null,
   "metadata": {},
   "outputs": [],
   "source": [
    "rec.plot_metrics([('summary_score', 'rsi')])"
   ]
  },
  {
   "cell_type": "code",
   "execution_count": null,
   "metadata": {},
   "outputs": [],
   "source": [
    "rec.plot_metrics([('reco_score', 'sharpe_participation')])"
   ]
  },
  {
   "cell_type": "code",
   "execution_count": null,
   "metadata": {},
   "outputs": [],
   "source": [
    "rec.get_portfolio_summary()"
   ]
  },
  {
   "cell_type": "code",
   "execution_count": null,
   "metadata": {},
   "outputs": [],
   "source": []
  },
  {
   "cell_type": "code",
   "execution_count": null,
   "metadata": {},
   "outputs": [],
   "source": []
  }
 ],
 "metadata": {
  "kernelspec": {
   "display_name": "Python 3",
   "language": "python",
   "name": "python3"
  },
  "language_info": {
   "codemirror_mode": {
    "name": "ipython",
    "version": 3
   },
   "file_extension": ".py",
   "mimetype": "text/x-python",
   "name": "python",
   "nbconvert_exporter": "python",
   "pygments_lexer": "ipython3",
   "version": "3.7.6"
  }
 },
 "nbformat": 4,
 "nbformat_minor": 4
}
